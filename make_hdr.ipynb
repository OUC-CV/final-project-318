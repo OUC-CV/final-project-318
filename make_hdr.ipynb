{
 "cells": [
  {
   "cell_type": "code",
   "execution_count": 1,
   "id": "70fe3d57",
   "metadata": {},
   "outputs": [],
   "source": [
    "import matplotlib.pyplot as plt\n",
    "import os\n",
    "import sys\n",
    "import numpy as np\n",
    "import cv2\n",
    "from glob import glob\n",
    "import shutil\n",
    "from tqdm import tqdm"
   ]
  },
  {
   "cell_type": "code",
   "execution_count": 2,
   "id": "2ab5350f",
   "metadata": {},
   "outputs": [],
   "source": [
    "# 高斯曲线函数\n",
    "def gauss_curve(src, mean, sigma):\n",
    "    dst = np.exp(-(src - mean)**2 / (2 * sigma**2))\n",
    "    return dst\n",
    "\n",
    "# 曝光融合类\n",
    "class ExposureFusion(object):\n",
    "    def __init__(self, sequence, best_exposedness=0.5, sigma=0.2, eps=1e-12, exponents=(1.0, 1.0, 1.0), layers=7):  # 初始化\n",
    "        \"\"\"\n",
    "        sequence: 输入图像序列，形状为 [N, H, W, 3]，像素值范围在 (0, 1) 之间，dtype=float32\n",
    "        best_exposedness: 最佳曝光度参数，默认为 0.5\n",
    "        sigma: 高斯曲线的标准差参数，默认为 0.2\n",
    "        eps: 避免除零的小常数，默认为 1e-12\n",
    "        exponents: 对比度、饱和度和曝光度的指数参数，默认为 (1.0, 1.0, 1.0)\n",
    "        layers: 多分辨率融合中金字塔层数，默认为 7\n",
    "        \"\"\"\n",
    "        self.sequence = sequence  # 输入图像序列\n",
    "        self.img_num = sequence.shape[0]  # 图像数量\n",
    "        self.best_exposedness = best_exposedness  # 最佳曝光度参数\n",
    "        self.sigma = sigma  # 高斯曲线的标准差参数\n",
    "        self.eps = eps  # 避免除零的小常数\n",
    "        self.exponents = exponents  # 对比度、饱和度和曝光度的指数参数\n",
    "        self.layers = layers  # 多分辨率融合中金字塔层数\n",
    "\n",
    "    @staticmethod\n",
    "    def cal_contrast(src):  # 计算对比度\n",
    "        gray = cv2.cvtColor(src, cv2.COLOR_BGR2GRAY)\n",
    "        laplace_kernel = np.array([[0, 1, 0], [1, -4, 1], [0, 1, 0]], dtype=np.float32)\n",
    "        contrast = cv2.filter2D(gray, -1, laplace_kernel, borderType=cv2.BORDER_REPLICATE)\n",
    "        return np.abs(contrast)\n",
    "\n",
    "    @staticmethod\n",
    "    def cal_saturation(src):  # 计算饱和度\n",
    "        mean = np.mean(src, axis=-1)\n",
    "        channels = [(src[:, :, c] - mean)**2 for c in range(3)]\n",
    "        saturation = np.sqrt(np.mean(channels, axis=0))\n",
    "        return saturation\n",
    "\n",
    "    @staticmethod\n",
    "    def cal_exposedness(src, best_exposedness, sigma):  # 计算曝光度\n",
    "        exposedness = [gauss_curve(src[:, :, c], best_exposedness, sigma) for c in range(3)]\n",
    "        exposedness = np.prod(exposedness, axis=0)\n",
    "        return exposedness\n",
    "\n",
    "    def cal_weight_map(self):  # 计算权重图\n",
    "        weights = []\n",
    "        for idx in range(self.sequence.shape[0]):\n",
    "            contrast = self.cal_contrast(self.sequence[idx])\n",
    "            saturation = self.cal_saturation(self.sequence[idx])\n",
    "            exposedness = self.cal_exposedness(self.sequence[idx], self.best_exposedness, self.sigma)\n",
    "            weight = np.power(contrast, self.exponents[0]) * np.power(saturation, self.exponents[1]) * np.power(exposedness, self.exponents[2])\n",
    "            # Gauss Blur\n",
    "            # weight = cv2.GaussianBlur(weight, (21, 21), 2.1)\n",
    "            weights.append(weight)\n",
    "        weights = np.stack(weights, 0) + self.eps\n",
    "        # normalize\n",
    "        weights = weights / np.expand_dims(np.sum(weights, axis=0), axis=0)\n",
    "        return weights\n",
    "\n",
    "    def naive_fusion(self):  # 加权平均融合结果图像\n",
    "        weights = self.cal_weight_map()  # 计算权重地图 [N, H, W]\n",
    "        weights = np.stack([weights, weights, weights], axis=-1)  # [N, H, W, 3]\n",
    "        naive_fusion = np.sum(weights * self.sequence * 255, axis=0)\n",
    "        naive_fusion = np.clip(naive_fusion, 0, 255).astype(np.uint8)\n",
    "        return naive_fusion\n",
    "\n",
    "    def build_gaussian_pyramid(self, high_res):  # 构建高斯金字塔\n",
    "        gaussian_pyramid = [high_res]\n",
    "        for idx in range(1, self.layers):\n",
    "            gaussian_pyramid.append(cv2.GaussianBlur(gaussian_pyramid[-1], (5, 5), 0.83)[::2, ::2])\n",
    "        return gaussian_pyramid\n",
    "\n",
    "    def build_laplace_pyramid(self, gaussian_pyramid):  # 构建拉普拉斯金字塔\n",
    "        laplace_pyramid = [gaussian_pyramid[-1]]\n",
    "        for idx in range(1, self.layers):\n",
    "            size = (gaussian_pyramid[self.layers - idx - 1].shape[1], gaussian_pyramid[self.layers - idx - 1].shape[0])\n",
    "            upsampled = cv2.resize(gaussian_pyramid[self.layers - idx], size, interpolation=cv2.INTER_LINEAR)\n",
    "            laplace_pyramid.append(gaussian_pyramid[self.layers - idx - 1] - upsampled)\n",
    "        laplace_pyramid.reverse()\n",
    "        return laplace_pyramid\n",
    "\n",
    "    def multi_resolution_fusion(self):  # 融合图像\n",
    "        weights = self.cal_weight_map()  # 计算权重图 [N, H, W]\n",
    "        weights = np.stack([weights, weights, weights], axis=-1)  # [N, H, W, 3]\n",
    "\n",
    "        image_gaussian_pyramid = [self.build_gaussian_pyramid(self.sequence[i] * 255) for i in range(self.img_num)]\n",
    "        image_laplace_pyramid = [self.build_laplace_pyramid(image_gaussian_pyramid[i]) for i in range(self.img_num)]\n",
    "        weights_gaussian_pyramid = [self.build_gaussian_pyramid(weights[i]) for i in range(self.img_num)]\n",
    "\n",
    "        fused_laplace_pyramid = [np.sum([image_laplace_pyramid[n][l] *\n",
    "                                         weights_gaussian_pyramid[n][l] for n in range(self.img_num)], axis=0) for l in range(self.layers)]\n",
    "\n",
    "        result = fused_laplace_pyramid[-1]\n",
    "        for k in range(1, self.layers):\n",
    "            size = (fused_laplace_pyramid[self.layers - k - 1].shape[1], fused_laplace_pyramid[self.layers - k - 1].shape[0])\n",
    "            upsampled = cv2.resize(result, size, interpolation=cv2.INTER_LINEAR)\n",
    "            result = upsampled + fused_laplace_pyramid[self.layers - k - 1]\n",
    "        result = np.clip(result, 0, 255).astype(np.uint8)\n",
    "\n",
    "        return result\n"
   ]
  },
  {
   "cell_type": "code",
   "execution_count": 3,
   "id": "63c06357",
   "metadata": {},
   "outputs": [],
   "source": [
    "def exposure_fusion(root_path):\n",
    "    sequence_path = [os.path.join(root_path, train) for train in os.listdir(root_path)]\n",
    "    sequence = np.stack([cv2.imread(path) for path in sequence_path], axis=0)\n",
    "    mef = ExposureFusion(sequence.astype(np.float32) / 255.0)\n",
    "    naive_fusion_result = mef.naive_fusion()\n",
    "    multi_res_fusion = mef.multi_resolution_fusion()\n",
    "    return multi_res_fusion"
   ]
  },
  {
   "cell_type": "code",
   "execution_count": 4,
   "id": "763690d2",
   "metadata": {},
   "outputs": [],
   "source": [
    "def get_subfolders(directory):\n",
    "    subfolders = [os.path.join(directory, name) for name in os.listdir(directory) if os.path.isdir(os.path.join(directory, name))]\n",
    "    return subfolders"
   ]
  },
  {
   "cell_type": "code",
   "execution_count": 5,
   "id": "7c5ea3da",
   "metadata": {},
   "outputs": [],
   "source": [
    "# 复制原图\n",
    "def get_original_image(root_path, output_path):\n",
    "    sequence_path = [os.path.join(root_path, train) for train in os.listdir(root_path)]\n",
    "    for path in sequence_path:\n",
    "        pattern = os.path.join(root_path, '**', '*_1.0.jpg')  # 原图\n",
    "        matching_paths=glob(pattern, recursive=True)\n",
    "        for image_path in matching_paths:\n",
    "            file_name = os.path.basename(os.path.dirname(image_path))\n",
    "            parent_path = os.path.join(output_path, file_name)\n",
    "            os.makedirs(parent_path, exist_ok=True)\n",
    "            new_file_path = os.path.join(parent_path, file_name+\"_0.jpg\")  # 0-原图，1-方法1 ，2-方法2\n",
    "            shutil.copyfile(image_path, new_file_path)"
   ]
  },
  {
   "cell_type": "code",
   "execution_count": 13,
   "id": "87736ac3",
   "metadata": {},
   "outputs": [],
   "source": [
    "# 对输入路径子文件夹中的图片进行HDR合成并按规则存储\n",
    "def get_exposure_fusion_results(root_path, output_path):\n",
    "    subfolders = get_subfolders(root_path)\n",
    "    image_list = []\n",
    "    for path in tqdm(subfolders):\n",
    "        new_file_path = os.path.join(output_path, os.path.basename(path))\n",
    "        os.makedirs(new_file_path, exist_ok=True)\n",
    "        new_file_path = os.path.join(new_file_path, os.path.basename(path)+\"_1.jpg\")  # 0-原图，1-方法1 ，2-方法2\n",
    "        cv2.imwrite(new_file_path, exposure_fusion(path))"
   ]
  },
  {
   "cell_type": "code",
   "execution_count": 15,
   "id": "cd0d77df",
   "metadata": {},
   "outputs": [
    {
     "name": "stderr",
     "output_type": "stream",
     "text": [
      "100%|████████████████████████████████████████████████████████████████████████████████| 100/100 [02:54<00:00,  1.75s/it]\n"
     ]
    }
   ],
   "source": [
    "# 对测试集随机抽取图片进行HDR合成\n",
    "root_path = 'myOutput'\n",
    "output_path = 'result_test'\n",
    "get_original_image(root_path, output_path)\n",
    "get_exposure_fusion_results(root_path, output_path)  "
   ]
  },
  {
   "cell_type": "code",
   "execution_count": 16,
   "id": "91136e44",
   "metadata": {},
   "outputs": [
    {
     "name": "stderr",
     "output_type": "stream",
     "text": [
      "100%|████████████████████████████████████████████████████████████████████████████████████| 4/4 [00:44<00:00, 11.25s/it]\n"
     ]
    }
   ],
   "source": [
    "# 对作业1中三种图片选取曝光程度居中的一张图片使用模型生成多曝光图片后进行HDR合成\n",
    "root_path = 'output'\n",
    "output_path = 'result'\n",
    "get_original_image(root_path, output_path)\n",
    "get_exposure_fusion_results(root_path, output_path)  "
   ]
  },
  {
   "cell_type": "code",
   "execution_count": null,
   "id": "0b762a4a",
   "metadata": {},
   "outputs": [],
   "source": []
  }
 ],
 "metadata": {
  "kernelspec": {
   "display_name": "Python [conda env:Anaconda-cv2]",
   "language": "python",
   "name": "conda-env-Anaconda-cv2-py"
  },
  "language_info": {
   "codemirror_mode": {
    "name": "ipython",
    "version": 3
   },
   "file_extension": ".py",
   "mimetype": "text/x-python",
   "name": "python",
   "nbconvert_exporter": "python",
   "pygments_lexer": "ipython3",
   "version": "3.9.19"
  }
 },
 "nbformat": 4,
 "nbformat_minor": 5
}
